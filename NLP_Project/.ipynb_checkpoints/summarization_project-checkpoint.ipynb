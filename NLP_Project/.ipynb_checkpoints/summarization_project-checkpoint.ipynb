{
 "cells": [
  {
   "cell_type": "code",
   "execution_count": 129,
   "metadata": {},
   "outputs": [],
   "source": [
    "from sumy.parsers.html import HtmlParser\n",
    "from sumy.parsers.plaintext import PlaintextParser\n",
    "from sumy.nlp.tokenizers import Tokenizer\n",
    "from sumy.summarizers.lsa import LsaSummarizer\n",
    "from sumy.summarizers.text_rank import TextRankSummarizer\n",
    "from sumy.nlp.stemmers import Stemmer\n",
    "from sumy.utils import get_stop_words\n",
    "\n",
    "import nltk\n",
    "from nltk.tag.stanford import StanfordNERTagger\n",
    "\n",
    "LANGUAGE = \"english\"\n",
    "SENTENCES_COUNT = 20\n"
   ]
  },
  {
   "cell_type": "markdown",
   "metadata": {},
   "source": [
    "# Summarization with SUMY Library"
   ]
  },
  {
   "cell_type": "code",
   "execution_count": null,
   "metadata": {},
   "outputs": [],
   "source": [
    "#url = \"https://nlp.stanford.edu/software/CRF-NER.shtml\"\n",
    "#parser = HtmlParser.from_url(url, Tokenizer(LANGUAGE))\n",
    "\n",
    "parser = PlaintextParser.from_file(\"Example1.txt\", Tokenizer(LANGUAGE))\n",
    "stemmer = Stemmer(LANGUAGE)\n",
    "\n",
    "# Using LSA Summarization algorithm\n",
    "#summarizer = LsaSummarizer(stemmer)\n",
    "\n",
    "# Using TextRank Summarization algorithm\n",
    "summarizer = TextRankSummarizer(stemmer)\n",
    "\n",
    "summarizer.stop_words = get_stop_words(LANGUAGE)\n",
    "summary = []\n",
    "for sentence in summarizer(parser.document, SENTENCES_COUNT):\n",
    "    summary.append(sentence)\n",
    "    #print(sentence)"
   ]
  },
  {
   "cell_type": "markdown",
   "metadata": {},
   "source": [
    "# Summarization with NER"
   ]
  },
  {
   "cell_type": "code",
   "execution_count": null,
   "metadata": {},
   "outputs": [],
   "source": [
    "jar = './stanford-ner-tagger/stanford-ner.jar'\n",
    "model = './stanford-ner-tagger/ner-model-english.ser.gz'\n",
    "\n",
    "ner_tagger = StanfordNERTagger(model, jar, encoding='utf8')\n",
    "\n",
    "count = 0\n",
    "summary_with_NER = []\n",
    "for sentence in summary: \n",
    "    words = nltk.word_tokenize(str(sentence))\n",
    "    ner = ner_tagger.tag(words)\n",
    "    for item in ner:\n",
    "        if item[1] != 'O':\n",
    "            summary_with_NER.append(sentence)\n",
    "            #print(sentence)\n",
    "            count += 1\n",
    "            break\n",
    "            \n",
    "print(f'Number of sentences in summary:{count}')"
   ]
  },
  {
   "cell_type": "markdown",
   "metadata": {},
   "source": [
    "# Summarization with Keywords"
   ]
  },
  {
   "cell_type": "code",
   "execution_count": null,
   "metadata": {},
   "outputs": [],
   "source": [
    "import RAKE\n",
    "import operator\n",
    "import re\n",
    "sample_file = open(\"Example1.txt\", 'r')\n",
    "sample_stop = open(\"SmartStoplist.txt\", 'r')\n",
    "text = sample_file.read()\n",
    "stop = sample_stop.read()\n",
    "\n",
    "#deleting the nextlines and putting them into list\n",
    "stopwordlist = RAKE.load_stop_words(\"SmartStoplist.txt\", '[\\n]+')\n",
    "\n",
    "stopwordpattern = RAKE.build_stop_word_regex(stopwordlist)\n",
    "\n",
    "sentenceList = RAKE.split_sentences(text)\n",
    "\n",
    "words = RAKE.generate_candidate_keywords(sentenceList, stopwordpattern, minCharacters=1, maxWords=1)\n",
    "\n",
    "word_scores = RAKE.calculate_word_scores(words)\n",
    "\n",
    "keywordcandidates = RAKE.generate_candidate_keyword_scores(words, word_scores, minFrequency = 1)\n",
    "\n",
    "\n",
    "sortedKeywords = sorted(keywordcandidates.items(), key=operator.itemgetter(1), reverse=True)\n",
    "\n",
    "#for keyword in sortedKeywords[0:10]:\n",
    "#    print (\"Keyword: \", keyword[0], \", score: \", keyword[1])\n",
    "\n",
    "count = 0\n",
    "summary_with_keywords = []\n",
    "for sentence in summary:\n",
    "    for keyword in sortedKeywords[0:10]:\n",
    "        if keyword[0] in nltk.word_tokenize(str(sentence)):\n",
    "            summary_with_keywords.append(sentence)\n",
    "            #print(sentence)\n",
    "            count += 1\n",
    "            break\n",
    "\n",
    "print(f'Number of sentences in summary:{count}')"
   ]
  },
  {
   "cell_type": "markdown",
   "metadata": {},
   "source": [
    "# Try Coreference Resolution"
   ]
  },
  {
   "cell_type": "code",
   "execution_count": 20,
   "metadata": {},
   "outputs": [],
   "source": [
    "from stanfordcorenlp import StanfordCoreNLP\n",
    "import json\n",
    "\n",
    "nlp = StanfordCoreNLP('./stanford-corenlp-full-2018-10-05/')\n",
    "\n",
    "props = {'annotators': 'coref', 'pipelineLanguage': 'en'}\n",
    "\n",
    "text = 'Barack Obama was born in Hawaii.  He is the president of that island. Obama was elected in 2008.'\n",
    "result = json.loads(nlp.annotate(text, properties=props))\n",
    "\n",
    "mentions = result['corefs']\n",
    "\n",
    "for paragraph in parser.document.paragraphs:\n",
    "    for sentence in paragraph.sentences:\n",
    "        result = json.loads(nlp.annotate(sentence._text, properties=props))\n",
    "        mentions = result['corefs']\n",
    "        if mentions:\n",
    "            for mention in mentions:\n",
    "                for item in mentions[mention]:\n",
    "                    print(item['text'])\n",
    "            print()"
   ]
  },
  {
   "cell_type": "markdown",
   "metadata": {},
   "source": [
    "# Experiment with CNN/Dailymail Dataset"
   ]
  },
  {
   "cell_type": "code",
   "execution_count": 215,
   "metadata": {},
   "outputs": [],
   "source": [
    "import os\n",
    "import re\n",
    "CNN_PATH = './cnn/'\n",
    "DM_PATH = './dailymail/'\n",
    "dataset = []\n",
    "reference = []\n",
    "#listdir = sorted(os.listdir(CNN_PATH))\n",
    "listdir = sorted(os.listdir(DM_PATH))"
   ]
  },
  {
   "cell_type": "code",
   "execution_count": 216,
   "metadata": {},
   "outputs": [],
   "source": [
    "def clean_text(text):\n",
    "    # acronym\n",
    "    text = re.sub(r\"can\\'t\", \"can not\", text)\n",
    "    text = re.sub(r\"cannot\", \"can not \", text)\n",
    "    text = re.sub(r\"what\\'s\", \"what is\", text)\n",
    "    text = re.sub(r\"What\\'s\", \"what is\", text)\n",
    "    text = re.sub(r\"\\'ve \", \" have \", text)\n",
    "    text = re.sub(r\"n\\'t\", \" not \", text)\n",
    "    text = re.sub(r\"i\\'m\", \"i am \", text)\n",
    "    text = re.sub(r\"I\\'m\", \"i am \", text)\n",
    "    text = re.sub(r\"\\'re\", \" are \", text)\n",
    "    text = re.sub(r\"\\'d\", \" would \", text)\n",
    "    text = re.sub(r\"\\'ll\", \" will \", text)\n",
    "\n",
    "    # punctuation\n",
    "    text = re.sub(r\"\\+\", \" + \", text)\n",
    "    text = re.sub(r\"'\", \" \", text)\n",
    "    text = re.sub(r\"-\", \" - \", text)\n",
    "    text = re.sub(r\"/\", \" / \", text)\n",
    "    text = re.sub(r\"\\\\\", \" \\ \", text)\n",
    "    text = re.sub(r\"=\", \" = \", text)\n",
    "    text = re.sub(r\"\\^\", \" ^ \", text)\n",
    "    text = re.sub(r\"\\.\", \" . \", text)\n",
    "    text = re.sub(r\",\", \" , \", text)\n",
    "    text = re.sub(r\"\\?\", \" ? \", text)\n",
    "    text = re.sub(r\"!\", \" ! \", text)\n",
    "    text = re.sub(r\"\\\"\", \" \\\" \", text)\n",
    "    text = re.sub(r\"&\", \" & \", text)\n",
    "    text = re.sub(r\"\\|\", \" | \", text)\n",
    "    text = re.sub(r\";\", \" ; \", text)\n",
    "    text = re.sub(r\"\\(\", \" ( \", text)\n",
    "    text = re.sub(r\"\\)\", \" ) \", text)\n",
    "    text = re.sub(r\"\\n\", \" \", text)\n",
    "    text = re.sub(r\"\\\"\", \" \", text)\n",
    "\n",
    "    # remove extra space\n",
    "    text = ' '.join(text.split())\n",
    "\n",
    "    return text"
   ]
  },
  {
   "cell_type": "code",
   "execution_count": 217,
   "metadata": {},
   "outputs": [],
   "source": [
    "for filename in listdir:\n",
    "    if filename[-1] == 't':\n",
    "        with open(DM_PATH+filename) as f:\n",
    "            text = clean_text(f.read())\n",
    "            dataset.append(text)\n",
    "for filename in listdir:\n",
    "    if filename[-1] == 'm':\n",
    "        with open(DM_PATH+filename) as f:\n",
    "            text = clean_text(f.read())\n",
    "            reference.append([[text]])"
   ]
  },
  {
   "cell_type": "markdown",
   "metadata": {},
   "source": [
    "# LSA / TextRank"
   ]
  },
  {
   "cell_type": "code",
   "execution_count": 218,
   "metadata": {},
   "outputs": [],
   "source": [
    "summary = []\n",
    "\n",
    "stemmer = Stemmer(LANGUAGE)\n",
    "\n",
    "# Using LSA Summarization algorithm\n",
    "summarizer = LsaSummarizer(stemmer)\n",
    "\n",
    "# Using TextRank Summarization algorithm\n",
    "#summarizer = TextRankSummarizer(stemmer)\n",
    "\n",
    "summarizer.stop_words = get_stop_words(LANGUAGE)\n",
    "\n",
    "for text in dataset[:1000]:\n",
    "    parser = PlaintextParser.from_string(text,Tokenizer(LANGUAGE))\n",
    "    summ = []\n",
    "    for sentence in summarizer(parser.document, 3):\n",
    "        summ.append(str(sentence))\n",
    "    summary.append(summ)  "
   ]
  },
  {
   "cell_type": "markdown",
   "metadata": {},
   "source": [
    "# Considering NER in summarization"
   ]
  },
  {
   "cell_type": "code",
   "execution_count": null,
   "metadata": {},
   "outputs": [],
   "source": [
    "summaries = []\n",
    "\n",
    "stemmer = Stemmer(LANGUAGE)\n",
    "\n",
    "# Using LSA Summarization algorithm\n",
    "#summarizer = LsaSummarizer(stemmer)\n",
    "\n",
    "# Using TextRank Summarization algorithm\n",
    "summarizer = TextRankSummarizer(stemmer)\n",
    "\n",
    "summarizer.stop_words = get_stop_words(LANGUAGE)\n",
    "\n",
    "for text in dataset:\n",
    "    parser = PlaintextParser.from_string(text,Tokenizer(LANGUAGE))\n",
    "    summ = []\n",
    "    for sentence in summarizer(parser.document, 5):\n",
    "        summ.append(sentence)\n",
    "    summaries.append(summ)  \n",
    "\n",
    "jar = './stanford-ner-tagger/stanford-ner.jar'\n",
    "model = './stanford-ner-tagger/ner-model-english.ser.gz'\n",
    "\n",
    "ner_tagger = StanfordNERTagger(model, jar, encoding='utf8')\n",
    "count = 1\n",
    "summary_with_NER = []\n",
    "for summary in summaries:\n",
    "    print(count)\n",
    "    count += 1\n",
    "    summ_with_NER = []\n",
    "    for sentence in summary: \n",
    "        words = nltk.word_tokenize(str(sentence))\n",
    "        ner = ner_tagger.tag(words)\n",
    "        for item in ner:\n",
    "            if item[1] != 'O':\n",
    "                summ_with_NER.append(str(sentence))\n",
    "                break\n",
    "    summary_with_NER.append([summ_with_NER])"
   ]
  },
  {
   "cell_type": "markdown",
   "metadata": {},
   "source": [
    "# Considering Keywords in Summarization"
   ]
  },
  {
   "cell_type": "code",
   "execution_count": null,
   "metadata": {},
   "outputs": [],
   "source": [
    "import RAKE\n",
    "import operator\n",
    "import re\n",
    "sample_stop = open(\"SmartStoplist.txt\", 'r')\n",
    "stop = sample_stop.read()\n",
    "\n",
    "#deleting the nextlines and putting them into list\n",
    "stopwordlist = RAKE.load_stop_words(\"SmartStoplist.txt\", '[\\n]+')\n",
    "\n",
    "stopwordpattern = RAKE.build_stop_word_regex(stopwordlist)\n",
    "\n",
    "summaries = []\n",
    "\n",
    "stemmer = Stemmer(LANGUAGE)\n",
    "\n",
    "# Using LSA Summarization algorithm\n",
    "#summarizer = LsaSummarizer(stemmer)\n",
    "\n",
    "# Using TextRank Summarization algorithm\n",
    "summarizer = TextRankSummarizer(stemmer)\n",
    "\n",
    "summarizer.stop_words = get_stop_words(LANGUAGE)\n",
    "\n",
    "for text in dataset:\n",
    "    parser = PlaintextParser.from_string(text,Tokenizer(LANGUAGE))\n",
    "    summ = []\n",
    "    for sentence in summarizer(parser.document, 5):\n",
    "        summ.append(sentence)\n",
    "    summaries.append(summ)  \n",
    "\n",
    "count = 1\n",
    "summary_with_keywords = []\n",
    "for (summary,text) in zip(summaries,dataset):\n",
    "    \n",
    "    sentenceList = RAKE.split_sentences(text)\n",
    "    words = RAKE.generate_candidate_keywords(sentenceList, stopwordpattern, minCharacters=1, maxWords=1)\n",
    "    word_scores = RAKE.calculate_word_scores(words)\n",
    "    keywordcandidates = RAKE.generate_candidate_keyword_scores(words, word_scores, minFrequency = 1)\n",
    "    sortedKeywords = sorted(keywordcandidates.items(), key=operator.itemgetter(1), reverse=True)\n",
    "\n",
    "    summ_with_keywords = []\n",
    "    print(count)\n",
    "    count += 1\n",
    "    for sentence in summary:\n",
    "        for keyword in sortedKeywords[0:10]:\n",
    "            if keyword[0] in nltk.word_tokenize(str(sentence)):\n",
    "                summ_with_keywords.append(str(sentence))\n",
    "                break\n",
    "    summary_with_keywords.append([summ_with_keywords])"
   ]
  },
  {
   "cell_type": "markdown",
   "metadata": {},
   "source": [
    "# Evaluate with automatic evaluation metric - ROUGE"
   ]
  },
  {
   "cell_type": "code",
   "execution_count": null,
   "metadata": {},
   "outputs": [],
   "source": [
    "from pythonrouge.pythonrouge import Pythonrouge\n",
    "\n",
    "rouge = Pythonrouge(summary_file_exist=False,\n",
    "                    summary=summary, reference=reference[:1000],\n",
    "                    n_gram=4, ROUGE_SU4=False, ROUGE_L=True,recall_only=True, \n",
    "                    stemming=True, stopwords=True,word_level=True,use_cf=False, \n",
    "                    cf=95, scoring_formula='average',p=0.5)\n",
    "score = rouge.calc_score()\n",
    "print(score)"
   ]
  },
  {
   "cell_type": "code",
   "execution_count": null,
   "metadata": {},
   "outputs": [],
   "source": []
  }
 ],
 "metadata": {
  "kernelspec": {
   "display_name": "Python 3",
   "language": "python",
   "name": "python3"
  },
  "language_info": {
   "codemirror_mode": {
    "name": "ipython",
    "version": 3
   },
   "file_extension": ".py",
   "mimetype": "text/x-python",
   "name": "python",
   "nbconvert_exporter": "python",
   "pygments_lexer": "ipython3",
   "version": "3.6.3"
  }
 },
 "nbformat": 4,
 "nbformat_minor": 2
}
